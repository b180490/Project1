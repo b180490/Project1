{
 "cells": [
  {
   "cell_type": "markdown",
   "id": "f9387023-22b0-45a2-bab2-734f8eaadf7d",
   "metadata": {},
   "source": [
    "# Predicting the Price of Used Cars\n",
    "\n",
    "In this Project, we are going to predict the Price of Used Cars using various features like Present_Price, Selling_Price, Kms_Driven, Fuel_Type, Year etc. \n",
    "\n",
    "To be able to predict used cars market value can help both buyers and sellers.\n",
    "\n",
    "There are lots of individuals who are interested in the used car market at some points in their life because they wanted to sell their car or buy a used car. In this process, it’s a big corner to pay too much or sell less then it’s market value."
   ]
  },
  {
   "cell_type": "markdown",
   "id": "3d47896f-06b6-421a-9937-dc983f844b3f",
   "metadata": {},
   "source": [
    "# Importing libraries"
   ]
  },
  {
   "cell_type": "code",
   "execution_count": 2,
   "id": "23a05ce5-9cfc-42ad-af3e-1872344c8a39",
   "metadata": {},
   "outputs": [],
   "source": [
    "import numpy as np\n",
    "import pandas as pd\n",
    "import matplotlib.pyplot as plt\n",
    "import seaborn as sns"
   ]
  },
  {
   "cell_type": "markdown",
   "id": "56574fee-6d79-4b9a-95be-ca997f09b2dc",
   "metadata": {},
   "source": [
    "## Loading the raw data"
   ]
  },
  {
   "cell_type": "code",
   "execution_count": null,
   "id": "d411be21-59b6-45a0-b8a8-4a568818a0fb",
   "metadata": {},
   "outputs": [],
   "source": [
    "df=pd.read_csv('clean2')\n",
    "df.head(3)"
   ]
  },
  {
   "cell_type": "markdown",
   "id": "adf37759-62af-4c86-9e01-32fec67e383c",
   "metadata": {},
   "source": [
    "# Preprocessing\n",
    "\n",
    "Exploring the descriptive statistics of the variables"
   ]
  },
  {
   "cell_type": "code",
   "execution_count": 3,
   "id": "8bf890a6-2a51-402d-9b5d-0d9f767256ee",
   "metadata": {},
   "outputs": [],
   "source": [
    "df1 = df.dropna()"
   ]
  },
  {
   "cell_type": "code",
   "execution_count": 4,
   "id": "ac63c06c-a33a-4f1e-b7ea-d552bd2860c9",
   "metadata": {},
   "outputs": [
    {
     "data": {
      "text/plain": [
       "Index(['Unnamed: 0', 'price', 'year', 'manufacturer', 'model', 'condition',\n",
       "       'cylinders', 'fuel', 'odometer', 'title_status', 'transmission', 'VIN',\n",
       "       'drive', 'type', 'paint_color', 'image_url', 'description', 'state',\n",
       "       'lat', 'long', 'posting_date'],\n",
       "      dtype='object')"
      ]
     },
     "execution_count": 4,
     "metadata": {},
     "output_type": "execute_result"
    }
   ],
   "source": [
    "df1.columns"
   ]
  },
  {
   "cell_type": "code",
   "execution_count": 5,
   "id": "bbedc838-c051-495a-89cc-b89913b1caee",
   "metadata": {},
   "outputs": [
    {
     "data": {
      "text/plain": [
       "(60631, 21)"
      ]
     },
     "execution_count": 5,
     "metadata": {},
     "output_type": "execute_result"
    }
   ],
   "source": [
    "df1.shape"
   ]
  },
  {
   "cell_type": "code",
   "execution_count": 6,
   "id": "e62b675d-7bf0-4091-a635-a1cafa7859b0",
   "metadata": {},
   "outputs": [
    {
     "data": {
      "text/plain": [
       "array([27990, 34590, 29990, ..., 12589, 11589,  4790])"
      ]
     },
     "execution_count": 6,
     "metadata": {},
     "output_type": "execute_result"
    }
   ],
   "source": [
    "df1['price'].unique()"
   ]
  },
  {
   "cell_type": "code",
   "execution_count": 7,
   "id": "e502842a-850a-41da-a3ea-9bbf41912cbb",
   "metadata": {},
   "outputs": [
    {
     "data": {
      "text/plain": [
       "<bound method Series.unique of 32        2012.0\n",
       "33        2016.0\n",
       "35        2016.0\n",
       "36        2011.0\n",
       "38        2017.0\n",
       "           ...  \n",
       "426859    2020.0\n",
       "426860    2017.0\n",
       "426866    2016.0\n",
       "426874    2018.0\n",
       "426878    2018.0\n",
       "Name: year, Length: 60631, dtype: float64>"
      ]
     },
     "execution_count": 7,
     "metadata": {},
     "output_type": "execute_result"
    }
   ],
   "source": [
    "df1['year'].unique"
   ]
  },
  {
   "cell_type": "code",
   "execution_count": 8,
   "id": "487441c6-d5ed-43f2-836f-1c505e0b18e2",
   "metadata": {},
   "outputs": [
    {
     "name": "stderr",
     "output_type": "stream",
     "text": [
      "/tmp/ipykernel_7229/3034211116.py:1: SettingWithCopyWarning: \n",
      "A value is trying to be set on a copy of a slice from a DataFrame.\n",
      "Try using .loc[row_indexer,col_indexer] = value instead\n",
      "\n",
      "See the caveats in the documentation: https://pandas.pydata.org/pandas-docs/stable/user_guide/indexing.html#returning-a-view-versus-a-copy\n",
      "  df1['year']=df1['year'].astype(object)\n"
     ]
    }
   ],
   "source": [
    "df1['year']=df1['year'].astype(object)"
   ]
  },
  {
   "cell_type": "code",
   "execution_count": 9,
   "id": "84bc9d76-794c-49ff-bb84-1554d2c9f199",
   "metadata": {},
   "outputs": [
    {
     "data": {
      "text/plain": [
       "array(['gmc', 'chevrolet', 'jeep', 'nissan', 'ford', 'toyota', 'ram',\n",
       "       'infiniti', 'chrysler', 'bmw', 'mazda', 'mercedes-benz', 'ferrari',\n",
       "       'lexus', 'audi', 'mitsubishi', 'volkswagen', 'honda', 'hyundai',\n",
       "       'fiat', 'kia', 'cadillac', 'rover', 'jaguar', 'lincoln', 'dodge',\n",
       "       'volvo', 'acura', 'subaru', 'mini', 'buick', 'porsche',\n",
       "       'alfa-romeo', 'saturn', 'tesla', 'harley-davidson', 'pontiac',\n",
       "       'mercury', 'datsun', 'land rover', 'aston-martin'], dtype=object)"
      ]
     },
     "execution_count": 9,
     "metadata": {},
     "output_type": "execute_result"
    }
   ],
   "source": [
    "df1['manufacturer'].unique()"
   ]
  },
  {
   "cell_type": "code",
   "execution_count": 10,
   "id": "4c9e103e-68a0-43c0-a573-b03910be9e52",
   "metadata": {},
   "outputs": [
    {
     "data": {
      "text/plain": [
       "array(['sierra 2500 hd extended cab', 'silverado 1500 double',\n",
       "       'colorado extended cab', ..., 'f150, xlt', 'f150, platinum',\n",
       "       'cruze, 2lt'], dtype=object)"
      ]
     },
     "execution_count": 10,
     "metadata": {},
     "output_type": "execute_result"
    }
   ],
   "source": [
    "df1['model'].unique()"
   ]
  },
  {
   "cell_type": "code",
   "execution_count": 11,
   "id": "311d8d3c-c9c1-4be7-acd1-497a93873d52",
   "metadata": {},
   "outputs": [
    {
     "data": {
      "text/plain": [
       "array(['good', 'like new', 'excellent', 'fair', 'new', 'salvage'],\n",
       "      dtype=object)"
      ]
     },
     "execution_count": 11,
     "metadata": {},
     "output_type": "execute_result"
    }
   ],
   "source": [
    "df1['condition'].unique()"
   ]
  },
  {
   "cell_type": "code",
   "execution_count": 12,
   "id": "83029194-9daa-4d0d-aa89-6a9160f95d19",
   "metadata": {},
   "outputs": [
    {
     "data": {
      "text/plain": [
       "array(['8 cylinders', '6 cylinders', '4 cylinders', '5 cylinders',\n",
       "       '10 cylinders', '3 cylinders', 'other', '12 cylinders'],\n",
       "      dtype=object)"
      ]
     },
     "execution_count": 12,
     "metadata": {},
     "output_type": "execute_result"
    }
   ],
   "source": [
    "df1['cylinders'].unique()"
   ]
  },
  {
   "cell_type": "code",
   "execution_count": 13,
   "id": "371d4636-82a3-48cb-9bd8-a1a038517021",
   "metadata": {},
   "outputs": [],
   "source": [
    "df1 = df1[df1['cylinders']!=\"other\"]"
   ]
  },
  {
   "cell_type": "code",
   "execution_count": 14,
   "id": "3257e4a6-c9f1-407d-b564-5f3f98243f82",
   "metadata": {},
   "outputs": [],
   "source": [
    "df1['cylinders']=df1['cylinders'].str.replace(\" cylinders\",\"\").astype(int)"
   ]
  },
  {
   "cell_type": "code",
   "execution_count": 15,
   "id": "a8ef1092-93c7-42c8-bcf0-cf15582320dd",
   "metadata": {},
   "outputs": [
    {
     "data": {
      "text/plain": [
       "array(['gas', 'other', 'hybrid', 'diesel', 'electric'], dtype=object)"
      ]
     },
     "execution_count": 15,
     "metadata": {},
     "output_type": "execute_result"
    }
   ],
   "source": [
    "df1['fuel'].unique()"
   ]
  },
  {
   "cell_type": "code",
   "execution_count": 16,
   "id": "04c23261-be46-475a-ab2d-a465c07eafda",
   "metadata": {},
   "outputs": [],
   "source": [
    "df1 = df1[df1['fuel']!=\"other\"]"
   ]
  },
  {
   "cell_type": "code",
   "execution_count": 17,
   "id": "93cbca1d-a98f-433f-b7e4-2e34d3769347",
   "metadata": {},
   "outputs": [
    {
     "data": {
      "text/plain": [
       "array([ 68696.,  29499.,  17302., ..., 176261., 172511.,  69550.])"
      ]
     },
     "execution_count": 17,
     "metadata": {},
     "output_type": "execute_result"
    }
   ],
   "source": [
    "df1['odometer'].unique()"
   ]
  },
  {
   "cell_type": "code",
   "execution_count": 18,
   "id": "60c0fe3d-51bf-4031-b408-47a5843021c4",
   "metadata": {},
   "outputs": [
    {
     "name": "stdout",
     "output_type": "stream",
     "text": [
      "<class 'pandas.core.frame.DataFrame'>\n",
      "Index: 58777 entries, 32 to 426878\n",
      "Data columns (total 21 columns):\n",
      " #   Column        Non-Null Count  Dtype  \n",
      "---  ------        --------------  -----  \n",
      " 0   Unnamed: 0    58777 non-null  int64  \n",
      " 1   price         58777 non-null  int64  \n",
      " 2   year          58777 non-null  object \n",
      " 3   manufacturer  58777 non-null  object \n",
      " 4   model         58777 non-null  object \n",
      " 5   condition     58777 non-null  object \n",
      " 6   cylinders     58777 non-null  int64  \n",
      " 7   fuel          58777 non-null  object \n",
      " 8   odometer      58777 non-null  float64\n",
      " 9   title_status  58777 non-null  object \n",
      " 10  transmission  58777 non-null  object \n",
      " 11  VIN           58777 non-null  object \n",
      " 12  drive         58777 non-null  object \n",
      " 13  type          58777 non-null  object \n",
      " 14  paint_color   58777 non-null  object \n",
      " 15  image_url     58777 non-null  object \n",
      " 16  description   58777 non-null  object \n",
      " 17  state         58777 non-null  object \n",
      " 18  lat           58777 non-null  float64\n",
      " 19  long          58777 non-null  float64\n",
      " 20  posting_date  58777 non-null  object \n",
      "dtypes: float64(3), int64(3), object(15)\n",
      "memory usage: 9.9+ MB\n"
     ]
    }
   ],
   "source": [
    "df1.info()"
   ]
  },
  {
   "cell_type": "code",
   "execution_count": 19,
   "id": "69b6ff61-88b4-462a-a399-1a46d1311dad",
   "metadata": {},
   "outputs": [],
   "source": [
    "df1['odometer']=df1['odometer'].astype(int)"
   ]
  },
  {
   "cell_type": "code",
   "execution_count": 20,
   "id": "31460a77-b14f-40b4-85ec-40fd59d6a00e",
   "metadata": {},
   "outputs": [
    {
     "data": {
      "text/plain": [
       "array(['clean', 'rebuilt', 'salvage', 'lien', 'missing', 'parts only'],\n",
       "      dtype=object)"
      ]
     },
     "execution_count": 20,
     "metadata": {},
     "output_type": "execute_result"
    }
   ],
   "source": [
    "df1['title_status'].unique()"
   ]
  },
  {
   "cell_type": "code",
   "execution_count": 21,
   "id": "81450dfb-49c7-435e-aba2-5d52a856bc69",
   "metadata": {},
   "outputs": [
    {
     "data": {
      "text/plain": [
       "array(['other', 'automatic', 'manual'], dtype=object)"
      ]
     },
     "execution_count": 21,
     "metadata": {},
     "output_type": "execute_result"
    }
   ],
   "source": [
    "df1['transmission'].unique()"
   ]
  },
  {
   "cell_type": "code",
   "execution_count": 22,
   "id": "e3d0abf5-4c63-467c-a961-db611eb69a3c",
   "metadata": {},
   "outputs": [],
   "source": [
    "df1 = df1[df1['transmission']!=\"other\"]"
   ]
  },
  {
   "cell_type": "code",
   "execution_count": 23,
   "id": "1c8788de-88ab-4536-8263-d92c592e0da9",
   "metadata": {},
   "outputs": [
    {
     "data": {
      "text/plain": [
       "array(['van', 'sedan', 'truck', 'convertible', 'coupe', 'SUV',\n",
       "       'hatchback', 'wagon', 'pickup', 'other', 'mini-van', 'offroad',\n",
       "       'bus'], dtype=object)"
      ]
     },
     "execution_count": 23,
     "metadata": {},
     "output_type": "execute_result"
    }
   ],
   "source": [
    "df1['type'].unique()"
   ]
  },
  {
   "cell_type": "code",
   "execution_count": 24,
   "id": "2f927955-c40a-4f64-9bf7-d43c7da2c73c",
   "metadata": {},
   "outputs": [],
   "source": [
    "df1 = df1[df1['type']!=\"other\"]"
   ]
  },
  {
   "cell_type": "code",
   "execution_count": 25,
   "id": "67617ac5-8e78-44d0-842b-b27bac5d9559",
   "metadata": {},
   "outputs": [
    {
     "data": {
      "text/plain": [
       "array(['white', 'silver', 'blue', 'red', 'grey', 'black', 'brown',\n",
       "       'green', 'custom', 'yellow', 'orange', 'purple'], dtype=object)"
      ]
     },
     "execution_count": 25,
     "metadata": {},
     "output_type": "execute_result"
    }
   ],
   "source": [
    "df1['paint_color'].unique()"
   ]
  },
  {
   "cell_type": "code",
   "execution_count": 26,
   "id": "29b8a7a4-4ab9-4725-9679-976466bdf552",
   "metadata": {},
   "outputs": [
    {
     "data": {
      "text/plain": [
       "array(['2018 Chevrolet Express Cargo Van RWD 2500 135\"Clean Title with a Powerful and Reliable 4.3L Engine  Available for test drive at Moates Auto Xchange 334-445-1460  VIN: 1GCWGAFP8J1309579 Condition: UsedExterior: White Interior:  Mileage: 68,472 Transmission:Automatic Engine: 4.3L Stock# P2223   Features Included (5BV) Upfitter electrical or (PCH) Hotel Shuttle Package.)(5BV) Upfitter electrical provisions or (LWN) 2.8L Duramax Turbo-Diesel engine.)(5BV) Upfitter electrical provisions or (ZP6) 5-passenger Express Crew Van.)(9L7) Wiring junction block equipment accessory(C69) rear air conditioning105 amps (Not available with (Y3H) Paratransit Package298 lb-ft of torque [404 Nm] @ 3900 rpm) (Reference the Engine/Axle page for availability.)3 on the engine console cover3.42 ratio (Reference the Engine/Axle page for availability.)4-wheel antilock4-wheel disc4.3L V6 with Direct Injection and Variable Valve Timing60/40 split600 cold-cranking amps8600 lbs. (3901 kg) (Reference the Engine/Axle page for availability.)Air bagsall windowsAlternatoraluminized stainless-steel muffler and tailpipeanalog with speedometerAssist handlesBatteryBlackblackwallBodyBrake/transmission shift interlockBrakesBumpersCargo tie-downs 6 D-ring attachments on cargo area floor (Not available with (Y3H) Paratransit PackageChevrolet Connected Access with 10 years of standard connectivity which enables services such asChevrolet Smart DriverclothConsoleCoolingCup holdersDaytime Running LampsDealer Maintenance NotificationDefoggerDoorDoor beamsdriver and front passengerdriver and right-front passengerdual halogen compositeEngineengine cover with open storage binengine temperature and oil pressureExhaustexternal (Not available with (LWN) 2.8L Duramax Turbo-Diesel engine.)external engine oil cooler (Not available with (LWN) 2.8L Duamax Turbo-Diesel engine.)Floor coveringfor automatic transmissionsFramefront and rear painted Black with step-padfront independent with coil springs and stabilizer barfront intermittent wet-arm with pulse washersfront LT245/75R16E all-seasonfuel levelFuel tank capacityfull-length Black rubberized-vinyl (Not available with (RFM) rear floor covering deletefull-length box ladder-typeGlassGVWRheadlamp on and key-in-ignitionHeadlampsHeadlinerHill Start Assisthinged rear side doors and hinged rear doors (Not available with (Y3H) Paratransit Package or (5BV) Upfitter electrical provisions.)includes aluminum block construction (276 hp [206 kW] @ 5200 rpmincludes defeat switch and door handle-activated switchesinstrument panel-mountedInstrumentationinterior with 4 dome lights 1 overhead and 3 LED\\'s on cross members in cargo areaLightingmaintenance-free with rundown protection and retained accessory powermid-frame and approximately 31 gallons (117.3L)Mirrorsodometer with trip odometerOil life monitoroutside manualover driver and passengerpaddedPASS-Key IIIpowerRear axlerear hypoid drive axle with multi-leaf springsrear LT245/75R16E all-seasonRear wheel driveseat-mounted side-impact and head curtain side-impact (Always use safety belts and the correct child restraints. Children are safer when properly secured in a rear seat in the appropriate child restraint. See the Owner\\'s Manual for more information.)side windowsSolar-Ray light-tintedStabiliTrakstandardsteel sleeve column with theft-deterrent locking featuresteel-sideSteeringSteering wheelSuspensionswing-out passenger-sideTheft-deterrent systemTiresTow/haul mode selectortraction assistance and vehicle stability enhancement systemTransmission oil coolerTrim panelsvehicleVehicle DiagnosticsVisorsvoltmeterWarning tonesWipers  ***Call to Schedule your Test Drive*** ***Trade-In Welcome*** ***Low Mileage Cars***    For any questions on this Chevrolet\\xa0Express Cargo VanPlease visit our website or call\\xa0334-445-1460  828 U.S. 231Ozark, AL 334-445-1460 Website:\\xa0 http://www.wiregrasscars  \\xa0BatchID: 44BTOHCIESID: 17346835 Updated 4/12/2021 11:20:56 PM EST',\n",
       "       '2019 Chevrolet Express Cargo Van RWD 2500 135\"Clean Title with a Powerful and Reliable 4.3L Engine  Available for test drive at Moates Auto Xchange 334-445-1460  VIN: 1GCWGAFP4K1214373 Condition: UsedExterior: White Interior:  Mileage: 69,125 Transmission:Automatic Engine: 4.3L Stock# P2217   Features Included (5BV) Upfitter electrical or (PCH) Hotel Shuttle Package.)(5BV) Upfitter electrical provisions or (LWN) 2.8L Duramax Turbo-Diesel engine.)(5BV) Upfitter electrical provisions or (ZP6) 5-passenger Express Crew Van.)(9L7) Wiring junction block equipment accessory(C69) rear air conditioning105 amps (Not available with (Y3H) Paratransit Package298 lb-ft of torque [404 Nm] @ 3900 rpm) (Reference the Engine/Axle page for availability.)3 on the engine console cover3.42 ratio (Reference the Engine/Axle page for availability.)4-wheel antilock4-wheel disc4.3L V6 with Direct Injection and Variable Valve Timing60/40 split600 cold-cranking amps8600 lbs. (3901 kg) (Reference the Engine/Axle page for availability.)active OnStar service and data plan. Data plans provided by AT&T. Visit onstar for details and system limitations.)all windowsAlternatoraluminized stainless-steel muffler and tailpipeanalog with speedometerAssist handlesBatteryBlackblackwallBodyBrake/transmission shift interlockBrakesBumpersCargo tie-downs 6 D-ring attachments on cargo area floor (Not available with (Y3H) Paratransit PackageChevrolet 4G LTE and available built-in Wi-Fi hotspot offers a fast and reliable Internet connection for up to 7 devices; includes data trial for 1 month or 3GB (whichever comes first) (Included and only available with (UE1) OnStar. Available Wi-Fi requires compatible mobile deviceChevrolet Connected Access with 10 years of standard connectivity which enables services such asChevrolet Smart DriverclothConsoleCoolingCup holdersDaytime Running LampsDealer Maintenance NotificationDefoggerDoorDoor beamsdriver and front passengerdriver and right-front passengerdual halogen compositeEngineengine cover with open storage binengine temperature and oil pressureExhaustexternal (Not available with (LWN) 2.8L Duramax Turbo-Diesel engine.)external engine oil cooler (Not available with (LWN) 2.8L Duamax Turbo-Diesel engine.)Floor coveringfor automatic transmissionsFramefront and rear painted Black with step-padfront independent with coil springs and stabilizer barfront intermittent wet-arm with pulse washersfront LT245/75R16E all-seasonfuel levelFuel tank capacityfull-length Black rubberized-vinyl (Not available with (RFM) rear floor covering deletefull-length box ladder-typeGlassGVWRheadlamp on and key-in-ignitionHeadlampsHeadlinerHill Start Assisthinged rear side doors and hinged rear doors (Not available with (Y3H) Paratransit Package or (5BV) Upfitter electrical provisions.)includes aluminum block construction (276 hp [206 kW] @ 5200 rpmincludes defeat switch and door handle-activated switchesinstrument panel-mountedInstrumentationinterior with 4 dome lights 1 overhead and 3 LED\\'s on cross members in cargo areaLightingmaintenance-free with rundown protection and retained accessory powerMarketplace and more (Included and only available with (UE1) OnStar. Limitations apply. Not transferable. Standard connectivity available to original purchaser for ten years from the date of initial vehicle purchase for model year 2018 or newer Chevrolet vehicles. See onstar for details and further plan limitations. Connected Access does not include emergency or security services. Availability and additional services enabled by Connected Access are subject to change.)mid-frame and approximately 31 gallons (117.3L)Mirrorsodometer with trip odometerOil life monitoroutside manualover driver and passengerpaddedPASS-Key IIIpowerRear axlerear hypoid drive axle with multi-leaf springsrear LT245/75R16E all-seasonRear wheel driveside windowsSolar-Ray light-tintedStabiliTrakstandardsteel sleeve column with theft-deterrent locking featuresteel-sideSteeringSteering wheelSuspensionswing-out passenger-sideTheft-deterrent systemTiresTow/haul mode selectortraction assistance and vehicle stability enhancement systemTransmission oil coolerTrim panelsvehicleVehicle DiagnosticsVisorsvoltmeterWarning tonesWipers  ***Call to Schedule your Test Drive*** ***Trade-In Welcome*** ***Low Mileage Cars***    For any questions on this Chevrolet\\xa0Express Cargo VanPlease visit our website or call\\xa0334-445-1460  828 U.S. 231Ozark, AL 334-445-1460 Website:\\xa0 http://www.wiregrasscars  \\xa0BatchID: 44BTOHCIESID: 17287960 Updated 4/12/2021 11:15:35 PM EST',\n",
       "       '2018 Chevrolet Express Cargo Van RWD 2500 135\"Clean Title with a Powerful and Reliable 4.3L Engine  Available for test drive at Moates Auto Xchange 334-445-1460  VIN: 1GCWGAFPXJ1337903 Condition: UsedExterior: White Interior:  Mileage: 66,555 Transmission:Automatic Engine: 4.3L Stock# P2225   Features Included (5BV) Upfitter electrical or (PCH) Hotel Shuttle Package.)(5BV) Upfitter electrical provisions or (LWN) 2.8L Duramax Turbo-Diesel engine.)(5BV) Upfitter electrical provisions or (ZP6) 5-passenger Express Crew Van.)(9L7) Wiring junction block equipment accessory(C69) rear air conditioning105 amps (Not available with (Y3H) Paratransit Package298 lb-ft of torque [404 Nm] @ 3900 rpm) (Reference the Engine/Axle page for availability.)3 on the engine console cover3.42 ratio (Reference the Engine/Axle page for availability.)4-wheel antilock4-wheel disc4.3L V6 with Direct Injection and Variable Valve Timing60/40 split600 cold-cranking amps8600 lbs. (3901 kg) (Reference the Engine/Axle page for availability.)Air bagsall windowsAlternatoraluminized stainless-steel muffler and tailpipeanalog with speedometerAssist handlesBatteryBlackblackwallBodyBrake/transmission shift interlockBrakesBumpersCargo tie-downs 6 D-ring attachments on cargo area floor (Not available with (Y3H) Paratransit PackageChevrolet Connected Access with 10 years of standard connectivity which enables services such asChevrolet Smart DriverclothConsoleCoolingCup holdersDaytime Running LampsDealer Maintenance NotificationDefoggerDoorDoor beamsdriver and front passengerdriver and right-front passengerdual halogen compositeEngineengine cover with open storage binengine temperature and oil pressureExhaustexternal (Not available with (LWN) 2.8L Duramax Turbo-Diesel engine.)external engine oil cooler (Not available with (LWN) 2.8L Duamax Turbo-Diesel engine.)Floor coveringfor automatic transmissionsFramefront and rear painted Black with step-padfront independent with coil springs and stabilizer barfront intermittent wet-arm with pulse washersfront LT245/75R16E all-seasonfuel levelFuel tank capacityfull-length Black rubberized-vinyl (Not available with (RFM) rear floor covering deletefull-length box ladder-typeGlassGVWRheadlamp on and key-in-ignitionHeadlampsHeadlinerHill Start Assisthinged rear side doors and hinged rear doors (Not available with (Y3H) Paratransit Package or (5BV) Upfitter electrical provisions.)includes aluminum block construction (276 hp [206 kW] @ 5200 rpmincludes defeat switch and door handle-activated switchesinstrument panel-mountedInstrumentationinterior with 4 dome lights 1 overhead and 3 LED\\'s on cross members in cargo areaLightingmaintenance-free with rundown protection and retained accessory powermid-frame and approximately 31 gallons (117.3L)Mirrorsodometer with trip odometerOil life monitoroutside manualover driver and passengerpaddedPASS-Key IIIpowerRear axlerear hypoid drive axle with multi-leaf springsrear LT245/75R16E all-seasonRear wheel driveseat-mounted side-impact and head curtain side-impact (Always use safety belts and the correct child restraints. Children are safer when properly secured in a rear seat in the appropriate child restraint. See the Owner\\'s Manual for more information.)side windowsSolar-Ray light-tintedStabiliTrakstandardsteel sleeve column with theft-deterrent locking featuresteel-sideSteeringSteering wheelSuspensionswing-out passenger-sideTheft-deterrent systemTiresTow/haul mode selectortraction assistance and vehicle stability enhancement systemTransmission oil coolerTrim panelsvehicleVehicle DiagnosticsVisorsvoltmeterWarning tonesWipers  ***Call to Schedule your Test Drive*** ***Trade-In Welcome*** ***Low Mileage Cars***    For any questions on this Chevrolet\\xa0Express Cargo VanPlease visit our website or call\\xa0334-445-1460  828 U.S. 231Ozark, AL 334-445-1460 Website:\\xa0 http://www.wiregrasscars  \\xa0BatchID: 44BTOHCIESID: 17346840 Updated 4/12/2021 11:22:05 PM EST',\n",
       "       ...,\n",
       "       \"Carvana is the safer way to buy a car During these uncertain times, Carvana is dedicated to ensuring safety for all of our customers. In addition to our 100% online shopping and selling experience that allows all customers to buy and trade their cars without ever leaving the safety of their house, we’re providing touchless delivery that make all aspects of our process even safer. Now, you can get the car you want, and trade in your old one, while avoiding person-to-person contact with our friendly advocates. There are some things that can’t be put off. And if buying a car is one of them, know that we’re doing everything we can to keep you keep moving while continuing to put your health safety, and happiness first. Vehicle Stock# 2000841987📱 Want to instantly check this car’s availability? Call us at  307-215-1645Just text that stock number to 855-976-4304 or head to  and plug it into the search bar!Get PRE-QUALIFIED for your auto loan in 2 minutes - no hit to your credit:http://finance.carvanaauto.com/6563398-75173Looking for more cars like this one? We have 58 Mercedes-Benz GLE in stock for as low as $28990!Why buy with Carvana? We have one standard: the highest. Take a look at just some of the qualifications all of our cars must meet before we list them.150-POINT INSPECTION: We put each vehicle through a 150-point inspection so that you can be 100% confident in its quality and safety. See everything that goes into our inspections at:NO REPORTED ACCIDENTS: We do not sell cars that have been in a reported accident or have a frame or structural damage.7 DAY TEST OWN MONEY BACK GUARANTEE: Every Carvana car comes with a 7-day money-back guarantee. Why? It takes more than 15-minutes to make a decision on your next car. Learn more about test owning at http://about.carvanaauto.comFLEXIBLE FINANCING, TRADE INS WELCOME: We’re all about real-time financing without the middle man. Need financing? Pick a combination of down and monthly payments that work for you. Have a trade-in? We’ll give you a value in 2 minutes. Check out everything about our financing at:http://finance.carvanaauto.com/6563398-75173COST SAVINGS: Carvana's business model has fewer expenses and no bloated fees compared to your local dealership. See how much we can save you at http://about.carvanaauto.comPREMIUM DETAIL: We go the extra mile so that your car is looking as good as new. There are a lot of specifics that we won’t list here (we wash, clean, buff, paint, polish, wax, seal), but trust us that when your car arrives, it’s going to look sweet.Vehicle Info for Stock# 2000841987Trim: GLE 350 Sport Utility 4D suvMileage: 16k milesExterior Color: BlackInterior Color: BlackEngine: 3.5L V6 302hp 273ft. lbs.Drive: rwdTransmission: Auto, 7-Spd 7G-TronicVIN: 4JGDA5JB7JB153181Dealer Disclosure: Price excludes tax, title, and registration (which we handle for you).Disclaimer: You agree that by providing your phone number, Carvana, or Carvana’s authorized representatives*, may call and/or send text messages (including by using equipment to automatically dial telephone numbers) about your interest in a purchase, for marketing/sales purposes, or for any other servicing or informational purpose related to your account. You do not have to consent to receiving calls or texts to purchase from Carvana. While every reasonable effort is made to ensure the accuracy of the information for this Mercedes-Benz GLE, we are not responsible for any errors or omissions contained in this ad. Please verify any information in question with Carvana at 307-215-1645*Including, but not limited to, Bridgecrest Credit Company, GO Financial and SilverRock Automotive.*Mercedes-Benz* *GLE* *MBZ* *Mercedes-Benz* *GLE* *G350* *Bluetec* *Mercedes-Benz* *GLE* *G* *350* *Bluetec* *Mercedes-Benz* *GLE* *280* *4Matic* *Mercedes-Benz* *GLE* *300* *4Matic* *Mercedes-Benz* *GLE* *350* *4Matic* *Mercedes-Benz* *GLE* *200* *CDI* *BlueEfficiency* *Mercedes-Benz* *GLE* *220* *CDI* *BlueEfficiency* *Mercedes-Benz* *GLE* *220* *CDI* *4Matic* *BlueEfficiency* *Mercedes-Benz* *GLE* *250* *CDI* *4Matic* *BlueEfficiency* *Mercedes-Benz* *GLE* *320* *CDI* *4Matic* *Mercedes-Benz* *GLE* *350* *CDI* *4Matic* *Mercedes-Benz* *GLE* *GL450* *BlueEFFICIENCY* *Mercedes-Benz* *GLE* *GL* *450* *BlueEFFICIENCY* *Mercedes-Benz* *GLE* *GL500* *BlueEFFICIENCY* *Mercedes-Benz* *GLE* *GL* *500* *BlueEFFICIENCY* *Mercedes-Benz* *GLE* *GL* *63* *AMG* *Mercedes-Benz* *GLE* *GL63* *AMG* *Cross* *Over* *SUV* 2022  2021  2020  2019  2018  2017  2016  2015  2014  2013  2012  2011  2010  2009  2008  2007  2006  2005  2004  2003  2002  2001  2000   22  21    19  18  17  16  15  14  13  12  11  10  09  08  07  06  05  04  03  02  01  00\",\n",
       "       'Low mileage, garaged, no accidents, dents, or structural damage, only 3000 miles on Z-rated tires, runs extremely well. Top in good condition, no leaks.  Cruise control recently stopped working, needs engine cover gasket replaced. In addition to Carfax report items, Front suspension lower ball joints and wheel bearings replaced, ignition module replaced, computer control capacitors replaced. Original radio replaced with Bluetooth Kenwood by previous owner; I don’t know if trunk CD player was reattached. I love this car but I’m 82 and significant health problems may soon limit my driving. Factory repair manual also, on CD and jump drive.',\n",
       "       \"Carvana is the safer way to buy a car During these uncertain times, Carvana is dedicated to ensuring safety for all of our customers. In addition to our 100% online shopping and selling experience that allows all customers to buy and trade their cars without ever leaving the safety of their house, we’re providing touchless delivery that make all aspects of our process even safer. Now, you can get the car you want, and trade in your old one, while avoiding person-to-person contact with our friendly advocates. There are some things that can’t be put off. And if buying a car is one of them, know that we’re doing everything we can to keep you keep moving while continuing to put your health safety, and happiness first. Vehicle Stock# 2000851943📱 Want to instantly check this car’s availability? Call us at  307-215-1645Just text that stock number to 855-976-4304 or head to http://www.carvanaauto.com/6615766-75173 and plug it into the search bar!Get PRE-QUALIFIED for your auto loan in 2 minutes - no hit to your credit:http://finance.carvanaauto.com/6615766-75173Looking for more cars like this one? We have 47 Lexus GS in stock for as low as $16590!Why buy with Carvana? We have one standard: the highest. Take a look at just some of the qualifications all of our cars must meet before we list them.150-POINT INSPECTION: We put each vehicle through a 150-point inspection so that you can be 100% confident in its quality and safety. See everything that goes into our inspections at:http://www.carvanaauto.com/6615766-75173NO REPORTED ACCIDENTS: We do not sell cars that have been in a reported accident or have a frame or structural damage.7 DAY TEST OWN MONEY BACK GUARANTEE: Every Carvana car comes with a 7-day money-back guarantee. Why? It takes more than 15-minutes to make a decision on your next car. Learn more about test owning at http://about.carvanaauto.comFLEXIBLE FINANCING, TRADE INS WELCOME: We’re all about real-time financing without the middle man. Need financing? Pick a combination of down and monthly payments that work for you. Have a trade-in? We’ll give you a value in 2 minutes. Check out everything about our financing at:http://finance.carvanaauto.com/6615766-75173COST SAVINGS: Carvana's business model has fewer expenses and no bloated fees compared to your local dealership. See how much we can save you at http://about.carvanaauto.comPREMIUM DETAIL: We go the extra mile so that your car is looking as good as new. There are a lot of specifics that we won’t list here (we wash, clean, buff, paint, polish, wax, seal), but trust us that when your car arrives, it’s going to look sweet.Vehicle Info for Stock# 2000851943Trim: GS 350 Sedan 4D sedanMileage: 30k milesExterior Color: WhiteInterior Color: BLACKEngine: 3.5L V6 311hp 280ft. lbs.Drive: rwdTransmission: Auto 8-Spd w/Direct ShiftVIN: JTHBZ1BLXJA012999Dealer Disclosure: Price excludes tax, title, and registration (which we handle for you).Disclaimer: You agree that by providing your phone number, Carvana, or Carvana’s authorized representatives*, may call and/or send text messages (including by using equipment to automatically dial telephone numbers) about your interest in a purchase, for marketing/sales purposes, or for any other servicing or informational purpose related to your account. You do not have to consent to receiving calls or texts to purchase from Carvana. While every reasonable effort is made to ensure the accuracy of the information for this Lexus GS, we are not responsible for any errors or omissions contained in this ad. Please verify any information in question with Carvana at 307-215-1645*Including, but not limited to, Bridgecrest Credit Company, GO Financial and SilverRock Automotive.*Lexus* *GS* *GS* *300* *Lexus* *GS* *GS300* *Lexus* *GS* *GS* *350* *Lexus* *GS* *GS350* *Lexus* *GS* *GS* *430* *Lexus* *GS* *GS430* *Lexus* *GS* *GS* *GS* *400* *Lexus* *GS* *GS* *GS400* *Lexus* *GS* *GS* *GS* *430* *Lexus* *GS* *GS* *GS430* *Lexus* *GS* *Base* *Sedan* 2022  2021  2020  2019  2018  2017  2016  2015  2014  2013  2012  2011  2010  2009  2008  2007  2006  2005  2004  2003  2002  2001  2000   22  21    19  18  17  16  15  14  13  12  11  10  09  08  07  06  05  04  03  02  01  00\"],\n",
       "      dtype=object)"
      ]
     },
     "execution_count": 26,
     "metadata": {},
     "output_type": "execute_result"
    }
   ],
   "source": [
    "df1['description'].unique()"
   ]
  },
  {
   "cell_type": "code",
   "execution_count": 27,
   "id": "e0621497-1da4-49d3-84f5-d8f956a305cd",
   "metadata": {},
   "outputs": [
    {
     "data": {
      "text/plain": [
       "array(['al', 'ak', 'az', 'ar', 'ca', 'co', 'ct', 'dc', 'de', 'fl', 'ga',\n",
       "       'hi', 'id', 'il', 'in', 'ia', 'ks', 'ky', 'la', 'me', 'md', 'ma',\n",
       "       'mi', 'mn', 'ms', 'mo', 'mt', 'nc', 'ne', 'nv', 'nj', 'nm', 'ny',\n",
       "       'nh', 'nd', 'oh', 'ok', 'or', 'pa', 'ri', 'sc', 'sd', 'tn', 'tx',\n",
       "       'ut', 'vt', 'va', 'wa', 'wv', 'wi', 'wy'], dtype=object)"
      ]
     },
     "execution_count": 27,
     "metadata": {},
     "output_type": "execute_result"
    }
   ],
   "source": [
    "df1['state'].unique()"
   ]
  },
  {
   "cell_type": "code",
   "execution_count": 28,
   "id": "0715e8fe-6d0f-4ad6-8b07-fae6386efc86",
   "metadata": {},
   "outputs": [
    {
     "data": {
      "text/plain": [
       "array([31.425091, 33.614088, 33.9135  , ..., 42.2655  , 41.326706,\n",
       "       43.64293 ])"
      ]
     },
     "execution_count": 28,
     "metadata": {},
     "output_type": "execute_result"
    }
   ],
   "source": [
    "df1['lat'].unique()"
   ]
  },
  {
   "cell_type": "code",
   "execution_count": 29,
   "id": "66ccf3b9-1997-4d08-bfd3-15aea7dde7ec",
   "metadata": {},
   "outputs": [
    {
     "data": {
      "text/plain": [
       "array([ -85.617723,  -85.796729,  -84.6859  , ..., -104.7512  ,\n",
       "       -105.58651 , -108.222976])"
      ]
     },
     "execution_count": 29,
     "metadata": {},
     "output_type": "execute_result"
    }
   ],
   "source": [
    "df1['long'].unique()"
   ]
  },
  {
   "cell_type": "code",
   "execution_count": 30,
   "id": "6a1eacb8-82ae-4b58-ab34-c676cac847ce",
   "metadata": {},
   "outputs": [
    {
     "data": {
      "text/plain": [
       "array(['2021-04-12T11:20:35-0500', '2021-04-12T11:20:00-0500',\n",
       "       '2021-04-12T11:19:58-0500', ..., '2021-04-05T16:29:38-0600',\n",
       "       '2021-04-05T15:18:42-0600', '2021-04-04T03:21:34-0600'],\n",
       "      dtype=object)"
      ]
     },
     "execution_count": 30,
     "metadata": {},
     "output_type": "execute_result"
    }
   ],
   "source": [
    "df1['posting_date'].unique()"
   ]
  },
  {
   "cell_type": "code",
   "execution_count": 31,
   "id": "8b9f43e6-33d9-4372-9670-189245ae90c8",
   "metadata": {},
   "outputs": [],
   "source": [
    "df1 = df1[df1['price']!=\"other\"]"
   ]
  },
  {
   "cell_type": "code",
   "execution_count": 32,
   "id": "be47b4df-42e6-420f-a9be-6855082362fc",
   "metadata": {},
   "outputs": [
    {
     "data": {
      "text/html": [
       "<div>\n",
       "<style scoped>\n",
       "    .dataframe tbody tr th:only-of-type {\n",
       "        vertical-align: middle;\n",
       "    }\n",
       "\n",
       "    .dataframe tbody tr th {\n",
       "        vertical-align: top;\n",
       "    }\n",
       "\n",
       "    .dataframe thead th {\n",
       "        text-align: right;\n",
       "    }\n",
       "</style>\n",
       "<table border=\"1\" class=\"dataframe\">\n",
       "  <thead>\n",
       "    <tr style=\"text-align: right;\">\n",
       "      <th></th>\n",
       "      <th>price</th>\n",
       "      <th>year</th>\n",
       "      <th>manufacturer</th>\n",
       "      <th>model</th>\n",
       "      <th>condition</th>\n",
       "      <th>cylinders</th>\n",
       "      <th>fuel</th>\n",
       "      <th>odometer</th>\n",
       "      <th>title_status</th>\n",
       "      <th>transmission</th>\n",
       "      <th>drive</th>\n",
       "      <th>type</th>\n",
       "      <th>paint_color</th>\n",
       "      <th>state</th>\n",
       "    </tr>\n",
       "  </thead>\n",
       "  <tbody>\n",
       "    <tr>\n",
       "      <th>126</th>\n",
       "      <td>0</td>\n",
       "      <td>2018.0</td>\n",
       "      <td>chevrolet</td>\n",
       "      <td>express cargo van</td>\n",
       "      <td>like new</td>\n",
       "      <td>6</td>\n",
       "      <td>gas</td>\n",
       "      <td>68472</td>\n",
       "      <td>clean</td>\n",
       "      <td>automatic</td>\n",
       "      <td>rwd</td>\n",
       "      <td>van</td>\n",
       "      <td>white</td>\n",
       "      <td>al</td>\n",
       "    </tr>\n",
       "    <tr>\n",
       "      <th>127</th>\n",
       "      <td>0</td>\n",
       "      <td>2019.0</td>\n",
       "      <td>chevrolet</td>\n",
       "      <td>express cargo van</td>\n",
       "      <td>like new</td>\n",
       "      <td>6</td>\n",
       "      <td>gas</td>\n",
       "      <td>69125</td>\n",
       "      <td>clean</td>\n",
       "      <td>automatic</td>\n",
       "      <td>rwd</td>\n",
       "      <td>van</td>\n",
       "      <td>white</td>\n",
       "      <td>al</td>\n",
       "    </tr>\n",
       "  </tbody>\n",
       "</table>\n",
       "</div>"
      ],
      "text/plain": [
       "     price    year manufacturer              model condition  cylinders fuel  \\\n",
       "126      0  2018.0    chevrolet  express cargo van  like new          6  gas   \n",
       "127      0  2019.0    chevrolet  express cargo van  like new          6  gas   \n",
       "\n",
       "     odometer title_status transmission drive type paint_color state  \n",
       "126     68472        clean    automatic   rwd  van       white    al  \n",
       "127     69125        clean    automatic   rwd  van       white    al  "
      ]
     },
     "execution_count": 32,
     "metadata": {},
     "output_type": "execute_result"
    }
   ],
   "source": [
    "df2 = df1.drop(['image_url', 'description','lat', 'long', 'posting_date','Unnamed: 0','VIN'],axis=1)\n",
    "df2.head(2)"
   ]
  },
  {
   "cell_type": "code",
   "execution_count": 33,
   "id": "86d6bff8-b1b4-4596-9e7c-0a3733fbaeb9",
   "metadata": {},
   "outputs": [
    {
     "data": {
      "text/plain": [
       "(47216, 14)"
      ]
     },
     "execution_count": 33,
     "metadata": {},
     "output_type": "execute_result"
    }
   ],
   "source": [
    "df2.shape"
   ]
  },
  {
   "cell_type": "code",
   "execution_count": 34,
   "id": "2cfdb5d2-9b49-48d9-bf5e-543ac74faa1b",
   "metadata": {},
   "outputs": [],
   "source": [
    "df2 = df2[df2['price']!=0]"
   ]
  },
  {
   "cell_type": "code",
   "execution_count": 35,
   "id": "5c027506-2601-48e5-a1af-a084ca2f2b15",
   "metadata": {},
   "outputs": [
    {
     "data": {
      "text/plain": [
       "(44349, 14)"
      ]
     },
     "execution_count": 35,
     "metadata": {},
     "output_type": "execute_result"
    }
   ],
   "source": [
    "df2.shape"
   ]
  },
  {
   "cell_type": "code",
   "execution_count": 36,
   "id": "7f5e5a97-ec07-4071-93bf-dc002b31f0eb",
   "metadata": {},
   "outputs": [
    {
     "name": "stdout",
     "output_type": "stream",
     "text": [
      "<class 'pandas.core.frame.DataFrame'>\n",
      "Index: 44349 entries, 215 to 426874\n",
      "Data columns (total 14 columns):\n",
      " #   Column        Non-Null Count  Dtype \n",
      "---  ------        --------------  ----- \n",
      " 0   price         44349 non-null  int64 \n",
      " 1   year          44349 non-null  object\n",
      " 2   manufacturer  44349 non-null  object\n",
      " 3   model         44349 non-null  object\n",
      " 4   condition     44349 non-null  object\n",
      " 5   cylinders     44349 non-null  int64 \n",
      " 6   fuel          44349 non-null  object\n",
      " 7   odometer      44349 non-null  int64 \n",
      " 8   title_status  44349 non-null  object\n",
      " 9   transmission  44349 non-null  object\n",
      " 10  drive         44349 non-null  object\n",
      " 11  type          44349 non-null  object\n",
      " 12  paint_color   44349 non-null  object\n",
      " 13  state         44349 non-null  object\n",
      "dtypes: int64(3), object(11)\n",
      "memory usage: 5.1+ MB\n"
     ]
    }
   ],
   "source": [
    "df2.info()"
   ]
  },
  {
   "cell_type": "code",
   "execution_count": 37,
   "id": "f723d54e-7f07-4383-a8e0-19d4992a4662",
   "metadata": {},
   "outputs": [
    {
     "data": {
      "text/html": [
       "<div>\n",
       "<style scoped>\n",
       "    .dataframe tbody tr th:only-of-type {\n",
       "        vertical-align: middle;\n",
       "    }\n",
       "\n",
       "    .dataframe tbody tr th {\n",
       "        vertical-align: top;\n",
       "    }\n",
       "\n",
       "    .dataframe thead th {\n",
       "        text-align: right;\n",
       "    }\n",
       "</style>\n",
       "<table border=\"1\" class=\"dataframe\">\n",
       "  <thead>\n",
       "    <tr style=\"text-align: right;\">\n",
       "      <th></th>\n",
       "      <th>price</th>\n",
       "      <th>cylinders</th>\n",
       "      <th>odometer</th>\n",
       "    </tr>\n",
       "  </thead>\n",
       "  <tbody>\n",
       "    <tr>\n",
       "      <th>count</th>\n",
       "      <td>44349.000000</td>\n",
       "      <td>44349.000000</td>\n",
       "      <td>4.434900e+04</td>\n",
       "    </tr>\n",
       "    <tr>\n",
       "      <th>mean</th>\n",
       "      <td>16856.185325</td>\n",
       "      <td>5.857517</td>\n",
       "      <td>1.069482e+05</td>\n",
       "    </tr>\n",
       "    <tr>\n",
       "      <th>std</th>\n",
       "      <td>12859.537570</td>\n",
       "      <td>1.654989</td>\n",
       "      <td>1.032702e+05</td>\n",
       "    </tr>\n",
       "    <tr>\n",
       "      <th>min</th>\n",
       "      <td>1.000000</td>\n",
       "      <td>3.000000</td>\n",
       "      <td>0.000000e+00</td>\n",
       "    </tr>\n",
       "    <tr>\n",
       "      <th>25%</th>\n",
       "      <td>7880.000000</td>\n",
       "      <td>4.000000</td>\n",
       "      <td>6.512500e+04</td>\n",
       "    </tr>\n",
       "    <tr>\n",
       "      <th>50%</th>\n",
       "      <td>12995.000000</td>\n",
       "      <td>6.000000</td>\n",
       "      <td>1.036250e+05</td>\n",
       "    </tr>\n",
       "    <tr>\n",
       "      <th>75%</th>\n",
       "      <td>22987.000000</td>\n",
       "      <td>8.000000</td>\n",
       "      <td>1.401240e+05</td>\n",
       "    </tr>\n",
       "    <tr>\n",
       "      <th>max</th>\n",
       "      <td>155000.000000</td>\n",
       "      <td>12.000000</td>\n",
       "      <td>9.999999e+06</td>\n",
       "    </tr>\n",
       "  </tbody>\n",
       "</table>\n",
       "</div>"
      ],
      "text/plain": [
       "               price     cylinders      odometer\n",
       "count   44349.000000  44349.000000  4.434900e+04\n",
       "mean    16856.185325      5.857517  1.069482e+05\n",
       "std     12859.537570      1.654989  1.032702e+05\n",
       "min         1.000000      3.000000  0.000000e+00\n",
       "25%      7880.000000      4.000000  6.512500e+04\n",
       "50%     12995.000000      6.000000  1.036250e+05\n",
       "75%     22987.000000      8.000000  1.401240e+05\n",
       "max    155000.000000     12.000000  9.999999e+06"
      ]
     },
     "execution_count": 37,
     "metadata": {},
     "output_type": "execute_result"
    }
   ],
   "source": [
    "df2.describe()"
   ]
  },
  {
   "cell_type": "code",
   "execution_count": 38,
   "id": "595df93a-a429-4931-ac20-b467a7ecb04e",
   "metadata": {},
   "outputs": [],
   "source": [
    "df2=df2[df2[\"odometer\"]<4e5]"
   ]
  },
  {
   "cell_type": "code",
   "execution_count": 39,
   "id": "a38d1b88-f78c-4b25-90d1-eeed4e78ed16",
   "metadata": {},
   "outputs": [
    {
     "data": {
      "text/html": [
       "<div>\n",
       "<style scoped>\n",
       "    .dataframe tbody tr th:only-of-type {\n",
       "        vertical-align: middle;\n",
       "    }\n",
       "\n",
       "    .dataframe tbody tr th {\n",
       "        vertical-align: top;\n",
       "    }\n",
       "\n",
       "    .dataframe thead th {\n",
       "        text-align: right;\n",
       "    }\n",
       "</style>\n",
       "<table border=\"1\" class=\"dataframe\">\n",
       "  <thead>\n",
       "    <tr style=\"text-align: right;\">\n",
       "      <th></th>\n",
       "      <th>price</th>\n",
       "      <th>cylinders</th>\n",
       "      <th>odometer</th>\n",
       "    </tr>\n",
       "  </thead>\n",
       "  <tbody>\n",
       "    <tr>\n",
       "      <th>count</th>\n",
       "      <td>44295.000000</td>\n",
       "      <td>44295.000000</td>\n",
       "      <td>44295.000000</td>\n",
       "    </tr>\n",
       "    <tr>\n",
       "      <th>mean</th>\n",
       "      <td>16862.064070</td>\n",
       "      <td>5.856530</td>\n",
       "      <td>105419.773428</td>\n",
       "    </tr>\n",
       "    <tr>\n",
       "      <th>std</th>\n",
       "      <td>12862.814127</td>\n",
       "      <td>1.655211</td>\n",
       "      <td>55642.988364</td>\n",
       "    </tr>\n",
       "    <tr>\n",
       "      <th>min</th>\n",
       "      <td>1.000000</td>\n",
       "      <td>3.000000</td>\n",
       "      <td>0.000000</td>\n",
       "    </tr>\n",
       "    <tr>\n",
       "      <th>25%</th>\n",
       "      <td>7887.500000</td>\n",
       "      <td>4.000000</td>\n",
       "      <td>65100.000000</td>\n",
       "    </tr>\n",
       "    <tr>\n",
       "      <th>50%</th>\n",
       "      <td>12995.000000</td>\n",
       "      <td>6.000000</td>\n",
       "      <td>103540.000000</td>\n",
       "    </tr>\n",
       "    <tr>\n",
       "      <th>75%</th>\n",
       "      <td>22988.000000</td>\n",
       "      <td>8.000000</td>\n",
       "      <td>140000.000000</td>\n",
       "    </tr>\n",
       "    <tr>\n",
       "      <th>max</th>\n",
       "      <td>155000.000000</td>\n",
       "      <td>12.000000</td>\n",
       "      <td>372575.000000</td>\n",
       "    </tr>\n",
       "  </tbody>\n",
       "</table>\n",
       "</div>"
      ],
      "text/plain": [
       "               price     cylinders       odometer\n",
       "count   44295.000000  44295.000000   44295.000000\n",
       "mean    16862.064070      5.856530  105419.773428\n",
       "std     12862.814127      1.655211   55642.988364\n",
       "min         1.000000      3.000000       0.000000\n",
       "25%      7887.500000      4.000000   65100.000000\n",
       "50%     12995.000000      6.000000  103540.000000\n",
       "75%     22988.000000      8.000000  140000.000000\n",
       "max    155000.000000     12.000000  372575.000000"
      ]
     },
     "execution_count": 39,
     "metadata": {},
     "output_type": "execute_result"
    }
   ],
   "source": [
    "df2.describe()"
   ]
  },
  {
   "cell_type": "code",
   "execution_count": 40,
   "id": "cae8500f-d2af-48ca-9e68-974d91e3b2fe",
   "metadata": {},
   "outputs": [],
   "source": [
    "df2=df2[df2[\"price\"]>500]"
   ]
  },
  {
   "cell_type": "code",
   "execution_count": 41,
   "id": "99070479-74ae-4424-b42e-babfbf40e7ee",
   "metadata": {},
   "outputs": [],
   "source": [
    "df2['year']=df2['year'].astype(int)"
   ]
  },
  {
   "cell_type": "code",
   "execution_count": 42,
   "id": "703224d8-8454-48ab-8ac8-9530b6b0ef24",
   "metadata": {},
   "outputs": [
    {
     "data": {
      "text/plain": [
       "215              toyota\n",
       "219                 bmw\n",
       "268               mazda\n",
       "337                ford\n",
       "338       mercedes-benz\n",
       "              ...      \n",
       "426793        chevrolet\n",
       "426800        chevrolet\n",
       "426823    mercedes-benz\n",
       "426833           jaguar\n",
       "426874            lexus\n",
       "Name: manufacturer, Length: 43805, dtype: object"
      ]
     },
     "execution_count": 42,
     "metadata": {},
     "output_type": "execute_result"
    }
   ],
   "source": [
    "df2[\"manufacturer\"]"
   ]
  },
  {
   "cell_type": "code",
   "execution_count": 43,
   "id": "a628b1ca-d517-45d5-babc-9917ba7df60f",
   "metadata": {},
   "outputs": [],
   "source": [
    "df3 = df2[\"manufacturer\"]"
   ]
  },
  {
   "cell_type": "code",
   "execution_count": 44,
   "id": "24e92eff-e2cc-45ce-a88d-63a98b23fab0",
   "metadata": {},
   "outputs": [
    {
     "data": {
      "text/plain": [
       "215              toyota\n",
       "219                 bmw\n",
       "268               mazda\n",
       "337                ford\n",
       "338       mercedes-benz\n",
       "              ...      \n",
       "426793        chevrolet\n",
       "426800        chevrolet\n",
       "426823    mercedes-benz\n",
       "426833           jaguar\n",
       "426874            lexus\n",
       "Name: manufacturer, Length: 43805, dtype: object"
      ]
     },
     "execution_count": 44,
     "metadata": {},
     "output_type": "execute_result"
    }
   ],
   "source": [
    "df3"
   ]
  },
  {
   "cell_type": "code",
   "execution_count": 45,
   "id": "3e88c4df-bd37-4086-b34f-6571dac0b469",
   "metadata": {},
   "outputs": [],
   "source": [
    "from sklearn.preprocessing import LabelEncoder"
   ]
  },
  {
   "cell_type": "code",
   "execution_count": 46,
   "id": "de8b09d4-de8f-4bce-9579-0a22a640dec4",
   "metadata": {},
   "outputs": [
    {
     "name": "stderr",
     "output_type": "stream",
     "text": [
      "/tmp/ipykernel_7229/3265209535.py:2: SettingWithCopyWarning: \n",
      "A value is trying to be set on a copy of a slice from a DataFrame\n",
      "\n",
      "See the caveats in the documentation: https://pandas.pydata.org/pandas-docs/stable/user_guide/indexing.html#returning-a-view-versus-a-copy\n",
      "  df3['Category_encoded'] = label_encoder.fit_transform(df3)\n"
     ]
    }
   ],
   "source": [
    "label_encoder = LabelEncoder()\n",
    "df3['Category_encoded'] = label_encoder.fit_transform(df3)"
   ]
  },
  {
   "cell_type": "code",
   "execution_count": 47,
   "id": "28e472f2-d4f1-469f-b46a-5166b84c0921",
   "metadata": {},
   "outputs": [
    {
     "name": "stdout",
     "output_type": "stream",
     "text": [
      "Mapping of Original Values to Encoded Values:\n",
      "{'acura': 0, 'alfa-romeo': 1, 'aston-martin': 2, 'audi': 3, 'bmw': 4, 'buick': 5, 'cadillac': 6, 'chevrolet': 7, 'chrysler': 8, 'datsun': 9, 'dodge': 10, 'ferrari': 11, 'fiat': 12, 'ford': 13, 'gmc': 14, 'harley-davidson': 15, 'honda': 16, 'hyundai': 17, 'infiniti': 18, 'jaguar': 19, 'jeep': 20, 'kia': 21, 'land rover': 22, 'lexus': 23, 'lincoln': 24, 'mazda': 25, 'mercedes-benz': 26, 'mercury': 27, 'mini': 28, 'mitsubishi': 29, 'nissan': 30, 'pontiac': 31, 'porsche': 32, 'ram': 33, 'rover': 34, 'saturn': 35, 'subaru': 36, 'tesla': 37, 'toyota': 38, 'volkswagen': 39, 'volvo': 40}\n"
     ]
    }
   ],
   "source": [
    "mapping = dict(zip(label_encoder.classes_, label_encoder.transform(label_encoder.classes_)))\n",
    "print(\"Mapping of Original Values to Encoded Values:\")\n",
    "print(mapping)"
   ]
  },
  {
   "cell_type": "code",
   "execution_count": null,
   "id": "86bfe085-2b0e-4bf7-aaeb-1fab7689f1be",
   "metadata": {},
   "outputs": [],
   "source": []
  },
  {
   "cell_type": "code",
   "execution_count": 48,
   "id": "ebc76958-4692-46e9-ad59-15fe1b48cfe7",
   "metadata": {},
   "outputs": [],
   "source": [
    "df3 = df2[\"fuel\"]"
   ]
  },
  {
   "cell_type": "code",
   "execution_count": 49,
   "id": "8fafad1c-0e81-446a-890a-6b311e448e8d",
   "metadata": {},
   "outputs": [
    {
     "name": "stderr",
     "output_type": "stream",
     "text": [
      "/tmp/ipykernel_7229/3265209535.py:2: SettingWithCopyWarning: \n",
      "A value is trying to be set on a copy of a slice from a DataFrame\n",
      "\n",
      "See the caveats in the documentation: https://pandas.pydata.org/pandas-docs/stable/user_guide/indexing.html#returning-a-view-versus-a-copy\n",
      "  df3['Category_encoded'] = label_encoder.fit_transform(df3)\n"
     ]
    }
   ],
   "source": [
    "label_encoder = LabelEncoder()\n",
    "df3['Category_encoded'] = label_encoder.fit_transform(df3)"
   ]
  },
  {
   "cell_type": "code",
   "execution_count": 50,
   "id": "78fe5807-a49a-4b5d-9804-7358e99fcdfb",
   "metadata": {},
   "outputs": [
    {
     "name": "stdout",
     "output_type": "stream",
     "text": [
      "Mapping of Original Values to Encoded Values:\n",
      "{'diesel': 0, 'electric': 1, 'gas': 2, 'hybrid': 3}\n"
     ]
    }
   ],
   "source": [
    "mapping = dict(zip(label_encoder.classes_, label_encoder.transform(label_encoder.classes_)))\n",
    "print(\"Mapping of Original Values to Encoded Values:\")\n",
    "print(mapping)"
   ]
  },
  {
   "cell_type": "code",
   "execution_count": null,
   "id": "f3d328d6-47ad-483a-afbf-5308f70cc00e",
   "metadata": {},
   "outputs": [],
   "source": []
  },
  {
   "cell_type": "code",
   "execution_count": null,
   "id": "c48792bd-1ecd-4ea2-a546-d867403b8d83",
   "metadata": {},
   "outputs": [],
   "source": []
  },
  {
   "cell_type": "code",
   "execution_count": 51,
   "id": "118e74ee-c84a-45e5-a807-9f57bd415622",
   "metadata": {},
   "outputs": [],
   "source": [
    "df3 = df2[\"cylinders\"]"
   ]
  },
  {
   "cell_type": "code",
   "execution_count": 52,
   "id": "b10fb0f7-b373-42f2-b534-dc322a5d7bd8",
   "metadata": {},
   "outputs": [
    {
     "name": "stderr",
     "output_type": "stream",
     "text": [
      "/tmp/ipykernel_7229/3265209535.py:2: SettingWithCopyWarning: \n",
      "A value is trying to be set on a copy of a slice from a DataFrame\n",
      "\n",
      "See the caveats in the documentation: https://pandas.pydata.org/pandas-docs/stable/user_guide/indexing.html#returning-a-view-versus-a-copy\n",
      "  df3['Category_encoded'] = label_encoder.fit_transform(df3)\n"
     ]
    }
   ],
   "source": [
    "label_encoder = LabelEncoder()\n",
    "df3['Category_encoded'] = label_encoder.fit_transform(df3)"
   ]
  },
  {
   "cell_type": "code",
   "execution_count": 53,
   "id": "868439f1-c204-4aed-b98f-65f216a34287",
   "metadata": {},
   "outputs": [
    {
     "name": "stdout",
     "output_type": "stream",
     "text": [
      "Mapping of Original Values to Encoded Values:\n",
      "{3: 0, 4: 1, 5: 2, 6: 3, 8: 4, 10: 5, 12: 6}\n"
     ]
    }
   ],
   "source": [
    "mapping = dict(zip(label_encoder.classes_, label_encoder.transform(label_encoder.classes_)))\n",
    "print(\"Mapping of Original Values to Encoded Values:\")\n",
    "print(mapping)"
   ]
  },
  {
   "cell_type": "code",
   "execution_count": null,
   "id": "6861dd75-022d-4b1f-8dff-0c812010cd30",
   "metadata": {},
   "outputs": [],
   "source": []
  },
  {
   "cell_type": "code",
   "execution_count": null,
   "id": "ad3e1eb8-d59f-44f9-ae7e-2e90f9d74c35",
   "metadata": {},
   "outputs": [],
   "source": []
  },
  {
   "cell_type": "code",
   "execution_count": 54,
   "id": "1cdaca45-0b8d-4fa7-a88b-c3129d29bfb6",
   "metadata": {},
   "outputs": [],
   "source": [
    "df3 = df2[\"drive\"]"
   ]
  },
  {
   "cell_type": "code",
   "execution_count": 55,
   "id": "dd494e09-9c39-41c6-b7a8-ce9e25b5edb2",
   "metadata": {},
   "outputs": [
    {
     "name": "stderr",
     "output_type": "stream",
     "text": [
      "/tmp/ipykernel_7229/3265209535.py:2: SettingWithCopyWarning: \n",
      "A value is trying to be set on a copy of a slice from a DataFrame\n",
      "\n",
      "See the caveats in the documentation: https://pandas.pydata.org/pandas-docs/stable/user_guide/indexing.html#returning-a-view-versus-a-copy\n",
      "  df3['Category_encoded'] = label_encoder.fit_transform(df3)\n"
     ]
    }
   ],
   "source": [
    "label_encoder = LabelEncoder()\n",
    "df3['Category_encoded'] = label_encoder.fit_transform(df3)"
   ]
  },
  {
   "cell_type": "code",
   "execution_count": 56,
   "id": "2980fce0-0983-4296-8394-c58d1351311f",
   "metadata": {},
   "outputs": [
    {
     "name": "stdout",
     "output_type": "stream",
     "text": [
      "Mapping of Original Values to Encoded Values:\n",
      "{'4wd': 0, 'fwd': 1, 'rwd': 2}\n"
     ]
    }
   ],
   "source": [
    "mapping = dict(zip(label_encoder.classes_, label_encoder.transform(label_encoder.classes_)))\n",
    "print(\"Mapping of Original Values to Encoded Values:\")\n",
    "print(mapping)"
   ]
  },
  {
   "cell_type": "code",
   "execution_count": null,
   "id": "e7220440-23b3-47ae-9f9d-712ee00f459b",
   "metadata": {},
   "outputs": [],
   "source": []
  },
  {
   "cell_type": "code",
   "execution_count": null,
   "id": "ec638786-1bec-40f3-903a-3b79d9aa760a",
   "metadata": {},
   "outputs": [],
   "source": [
    "df3 = df2[\"year\"]"
   ]
  },
  {
   "cell_type": "code",
   "execution_count": null,
   "id": "0c0cb655-fb26-4ec6-a76d-dc5bc900d774",
   "metadata": {},
   "outputs": [],
   "source": [
    "label_encoder = LabelEncoder()\n",
    "df3['Category_encoded'] = label_encoder.fit_transform(df3)"
   ]
  },
  {
   "cell_type": "code",
   "execution_count": null,
   "id": "330ade34-4dd4-4a34-8301-5a68885680bb",
   "metadata": {},
   "outputs": [],
   "source": [
    "mapping = dict(zip(label_encoder.classes_, label_encoder.transform(label_encoder.classes_)))\n",
    "print(\"Mapping of Original Values to Encoded Values:\")\n",
    "print(mapping)"
   ]
  },
  {
   "cell_type": "code",
   "execution_count": null,
   "id": "8d4f613e-9d93-4893-ad27-dd0374484d50",
   "metadata": {},
   "outputs": [],
   "source": []
  },
  {
   "cell_type": "code",
   "execution_count": null,
   "id": "52bfdc71-ce73-4d09-802a-de0ece86ae99",
   "metadata": {},
   "outputs": [],
   "source": [
    "df3 = df2[\"drive\"]"
   ]
  },
  {
   "cell_type": "code",
   "execution_count": null,
   "id": "dcac53c2-bcf3-43ef-b3bd-2dff6fb5540a",
   "metadata": {},
   "outputs": [],
   "source": [
    "label_encoder = LabelEncoder()\n",
    "df3['Category_encoded'] = label_encoder.fit_transform(df3)"
   ]
  },
  {
   "cell_type": "code",
   "execution_count": null,
   "id": "16da78be-f4a7-4805-bf71-44a1e19b2b12",
   "metadata": {},
   "outputs": [],
   "source": [
    "mapping = dict(zip(label_encoder.classes_, label_encoder.transform(label_encoder.classes_)))\n",
    "print(\"Mapping of Original Values to Encoded Values:\")\n",
    "print(mapping)"
   ]
  },
  {
   "cell_type": "code",
   "execution_count": null,
   "id": "a96bceb4-1231-4473-b4aa-9b52107a8b57",
   "metadata": {},
   "outputs": [],
   "source": []
  },
  {
   "cell_type": "code",
   "execution_count": 57,
   "id": "a0189392-7462-4588-9dde-ad61b344fa75",
   "metadata": {},
   "outputs": [],
   "source": [
    "df2.to_csv('cl_final2.csv')"
   ]
  },
  {
   "cell_type": "markdown",
   "id": "d8d46750-fe58-463b-8602-471bfcb9557d",
   "metadata": {},
   "source": [
    "# Deal with Object Value"
   ]
  },
  {
   "cell_type": "code",
   "execution_count": 42,
   "id": "eead8c93-61fe-4bb7-a057-2038681fe6a6",
   "metadata": {},
   "outputs": [],
   "source": [
    "from sklearn.preprocessing import LabelEncoder\n",
    "\n",
    "# encoder = LabelEncoder()\n",
    "# encoder.fit(df2[\"year\"])\n",
    "# df2[\"year\"] = encoder.transform(df2[\"year\"])\n",
    "\n",
    "encoder = LabelEncoder()\n",
    "encoder.fit(df2[\"manufacturer\"])\n",
    "df2[\"manufacturer\"] = encoder.transform(df2[\"manufacturer\"])\n",
    "\n",
    "encoder = LabelEncoder()\n",
    "encoder.fit(df2[\"model\"])\n",
    "df2[\"model\"] = encoder.transform(df2[\"model\"])\n",
    "\n",
    "encoder = LabelEncoder()\n",
    "encoder.fit(df2[\"condition\"])\n",
    "df2[\"condition\"] = encoder.transform(df2[\"condition\"])\n",
    "\n",
    "encoder = LabelEncoder()\n",
    "encoder.fit(df2[\"fuel\"])\n",
    "df2[\"fuel\"] = encoder.transform(df2[\"fuel\"])\n",
    "\n",
    "encoder = LabelEncoder()\n",
    "encoder.fit(df2[\"title_status\"])\n",
    "df2[\"title_status\"] = encoder.transform(df2[\"title_status\"])\n",
    "\n",
    "\n",
    "encoder = LabelEncoder()\n",
    "encoder.fit(df2[\"transmission\"])\n",
    "df2[\"transmission\"] = encoder.transform(df2[\"transmission\"])\n",
    "\n",
    "\n",
    "encoder = LabelEncoder()\n",
    "encoder.fit(df2[\"drive\"])\n",
    "df2[\"drive\"] = encoder.transform(df2[\"drive\"])\n",
    "\n",
    "\n",
    "encoder = LabelEncoder()\n",
    "encoder.fit(df2[\"type\"])\n",
    "df2[\"type\"] = encoder.transform(df2[\"type\"])\n",
    "\n",
    "\n",
    "encoder = LabelEncoder()\n",
    "encoder.fit(df2[\"paint_color\"])\n",
    "df2[\"paint_color\"] = encoder.transform(df2[\"paint_color\"])\n",
    "\n",
    "\n",
    "encoder = LabelEncoder()\n",
    "encoder.fit(df2[\"state\"])\n",
    "df2[\"state\"] = encoder.transform(df2[\"state\"])\n",
    "\n"
   ]
  },
  {
   "cell_type": "code",
   "execution_count": 43,
   "id": "4376c597-8b16-43ae-b9b6-61fb2de63e6a",
   "metadata": {},
   "outputs": [
    {
     "name": "stdout",
     "output_type": "stream",
     "text": [
      "<class 'pandas.core.frame.DataFrame'>\n",
      "Index: 43805 entries, 215 to 426874\n",
      "Data columns (total 14 columns):\n",
      " #   Column        Non-Null Count  Dtype\n",
      "---  ------        --------------  -----\n",
      " 0   price         43805 non-null  int64\n",
      " 1   year          43805 non-null  int64\n",
      " 2   manufacturer  43805 non-null  int64\n",
      " 3   model         43805 non-null  int64\n",
      " 4   condition     43805 non-null  int64\n",
      " 5   cylinders     43805 non-null  int64\n",
      " 6   fuel          43805 non-null  int64\n",
      " 7   odometer      43805 non-null  int64\n",
      " 8   title_status  43805 non-null  int64\n",
      " 9   transmission  43805 non-null  int64\n",
      " 10  drive         43805 non-null  int64\n",
      " 11  type          43805 non-null  int64\n",
      " 12  paint_color   43805 non-null  int64\n",
      " 13  state         43805 non-null  int64\n",
      "dtypes: int64(14)\n",
      "memory usage: 5.0 MB\n"
     ]
    }
   ],
   "source": [
    "df2.info()"
   ]
  },
  {
   "cell_type": "code",
   "execution_count": 47,
   "id": "d5ac2c4a-c3c4-4ec7-87e3-a29a7c90b50b",
   "metadata": {},
   "outputs": [
    {
     "data": {
      "text/plain": [
       "array([38,  4, 25, 13, 26, 11, 23,  7,  3, 29, 18, 30, 39, 16, 33, 17, 12,\n",
       "       21,  6, 34, 20, 14, 19, 40, 10,  8,  0, 36, 24, 28,  5, 32,  1, 35,\n",
       "       37, 15, 31, 27,  9, 22,  2])"
      ]
     },
     "execution_count": 47,
     "metadata": {},
     "output_type": "execute_result"
    }
   ],
   "source": [
    "df2[\"manufacturer\"].unique()"
   ]
  },
  {
   "cell_type": "code",
   "execution_count": 44,
   "id": "116ba044-d1cc-46ec-ae8a-59d7426fa0af",
   "metadata": {},
   "outputs": [
    {
     "data": {
      "text/html": [
       "<div>\n",
       "<style scoped>\n",
       "    .dataframe tbody tr th:only-of-type {\n",
       "        vertical-align: middle;\n",
       "    }\n",
       "\n",
       "    .dataframe tbody tr th {\n",
       "        vertical-align: top;\n",
       "    }\n",
       "\n",
       "    .dataframe thead th {\n",
       "        text-align: right;\n",
       "    }\n",
       "</style>\n",
       "<table border=\"1\" class=\"dataframe\">\n",
       "  <thead>\n",
       "    <tr style=\"text-align: right;\">\n",
       "      <th></th>\n",
       "      <th>price</th>\n",
       "      <th>year</th>\n",
       "      <th>manufacturer</th>\n",
       "      <th>model</th>\n",
       "      <th>condition</th>\n",
       "      <th>cylinders</th>\n",
       "      <th>fuel</th>\n",
       "      <th>odometer</th>\n",
       "      <th>title_status</th>\n",
       "      <th>transmission</th>\n",
       "      <th>drive</th>\n",
       "      <th>type</th>\n",
       "      <th>paint_color</th>\n",
       "      <th>state</th>\n",
       "    </tr>\n",
       "  </thead>\n",
       "  <tbody>\n",
       "    <tr>\n",
       "      <th>price</th>\n",
       "      <td>1.000000</td>\n",
       "      <td>0.353851</td>\n",
       "      <td>-0.083821</td>\n",
       "      <td>0.068560</td>\n",
       "      <td>0.062166</td>\n",
       "      <td>0.394160</td>\n",
       "      <td>-0.386167</td>\n",
       "      <td>-0.472241</td>\n",
       "      <td>-0.032489</td>\n",
       "      <td>-0.030578</td>\n",
       "      <td>-0.142508</td>\n",
       "      <td>0.093661</td>\n",
       "      <td>0.067002</td>\n",
       "      <td>-0.010335</td>\n",
       "    </tr>\n",
       "    <tr>\n",
       "      <th>year</th>\n",
       "      <td>0.353851</td>\n",
       "      <td>1.000000</td>\n",
       "      <td>0.004064</td>\n",
       "      <td>0.042873</td>\n",
       "      <td>0.012532</td>\n",
       "      <td>-0.173149</td>\n",
       "      <td>-0.017645</td>\n",
       "      <td>-0.334364</td>\n",
       "      <td>0.041421</td>\n",
       "      <td>-0.197101</td>\n",
       "      <td>-0.173947</td>\n",
       "      <td>0.040395</td>\n",
       "      <td>0.010379</td>\n",
       "      <td>0.001858</td>\n",
       "    </tr>\n",
       "    <tr>\n",
       "      <th>manufacturer</th>\n",
       "      <td>-0.083821</td>\n",
       "      <td>0.004064</td>\n",
       "      <td>1.000000</td>\n",
       "      <td>-0.010592</td>\n",
       "      <td>-0.032702</td>\n",
       "      <td>-0.262763</td>\n",
       "      <td>0.049992</td>\n",
       "      <td>0.030768</td>\n",
       "      <td>0.017385</td>\n",
       "      <td>0.050893</td>\n",
       "      <td>-0.070904</td>\n",
       "      <td>-0.017819</td>\n",
       "      <td>-0.021697</td>\n",
       "      <td>-0.007384</td>\n",
       "    </tr>\n",
       "    <tr>\n",
       "      <th>model</th>\n",
       "      <td>0.068560</td>\n",
       "      <td>0.042873</td>\n",
       "      <td>-0.010592</td>\n",
       "      <td>1.000000</td>\n",
       "      <td>-0.011137</td>\n",
       "      <td>0.103177</td>\n",
       "      <td>-0.016818</td>\n",
       "      <td>0.022232</td>\n",
       "      <td>-0.029639</td>\n",
       "      <td>-0.011642</td>\n",
       "      <td>-0.128113</td>\n",
       "      <td>-0.086639</td>\n",
       "      <td>0.012281</td>\n",
       "      <td>0.045733</td>\n",
       "    </tr>\n",
       "    <tr>\n",
       "      <th>condition</th>\n",
       "      <td>0.062166</td>\n",
       "      <td>0.012532</td>\n",
       "      <td>-0.032702</td>\n",
       "      <td>-0.011137</td>\n",
       "      <td>1.000000</td>\n",
       "      <td>0.045108</td>\n",
       "      <td>-0.012868</td>\n",
       "      <td>-0.062668</td>\n",
       "      <td>0.021007</td>\n",
       "      <td>0.012446</td>\n",
       "      <td>0.080360</td>\n",
       "      <td>0.078017</td>\n",
       "      <td>0.041377</td>\n",
       "      <td>0.015615</td>\n",
       "    </tr>\n",
       "    <tr>\n",
       "      <th>cylinders</th>\n",
       "      <td>0.394160</td>\n",
       "      <td>-0.173149</td>\n",
       "      <td>-0.262763</td>\n",
       "      <td>0.103177</td>\n",
       "      <td>0.045108</td>\n",
       "      <td>1.000000</td>\n",
       "      <td>-0.232867</td>\n",
       "      <td>0.106551</td>\n",
       "      <td>-0.055008</td>\n",
       "      <td>-0.085924</td>\n",
       "      <td>-0.015956</td>\n",
       "      <td>0.108155</td>\n",
       "      <td>0.088770</td>\n",
       "      <td>0.017556</td>\n",
       "    </tr>\n",
       "    <tr>\n",
       "      <th>fuel</th>\n",
       "      <td>-0.386167</td>\n",
       "      <td>-0.017645</td>\n",
       "      <td>0.049992</td>\n",
       "      <td>-0.016818</td>\n",
       "      <td>-0.012868</td>\n",
       "      <td>-0.232867</td>\n",
       "      <td>1.000000</td>\n",
       "      <td>-0.065324</td>\n",
       "      <td>0.004242</td>\n",
       "      <td>0.003253</td>\n",
       "      <td>0.097668</td>\n",
       "      <td>-0.192459</td>\n",
       "      <td>-0.086970</td>\n",
       "      <td>-0.031760</td>\n",
       "    </tr>\n",
       "    <tr>\n",
       "      <th>odometer</th>\n",
       "      <td>-0.472241</td>\n",
       "      <td>-0.334364</td>\n",
       "      <td>0.030768</td>\n",
       "      <td>0.022232</td>\n",
       "      <td>-0.062668</td>\n",
       "      <td>0.106551</td>\n",
       "      <td>-0.065324</td>\n",
       "      <td>1.000000</td>\n",
       "      <td>-0.085227</td>\n",
       "      <td>-0.009799</td>\n",
       "      <td>-0.079044</td>\n",
       "      <td>-0.002970</td>\n",
       "      <td>-0.001048</td>\n",
       "      <td>0.035183</td>\n",
       "    </tr>\n",
       "    <tr>\n",
       "      <th>title_status</th>\n",
       "      <td>-0.032489</td>\n",
       "      <td>0.041421</td>\n",
       "      <td>0.017385</td>\n",
       "      <td>-0.029639</td>\n",
       "      <td>0.021007</td>\n",
       "      <td>-0.055008</td>\n",
       "      <td>0.004242</td>\n",
       "      <td>-0.085227</td>\n",
       "      <td>1.000000</td>\n",
       "      <td>-0.002462</td>\n",
       "      <td>-0.020818</td>\n",
       "      <td>-0.018183</td>\n",
       "      <td>-0.036344</td>\n",
       "      <td>0.003480</td>\n",
       "    </tr>\n",
       "    <tr>\n",
       "      <th>transmission</th>\n",
       "      <td>-0.030578</td>\n",
       "      <td>-0.197101</td>\n",
       "      <td>0.050893</td>\n",
       "      <td>-0.011642</td>\n",
       "      <td>0.012446</td>\n",
       "      <td>-0.085924</td>\n",
       "      <td>0.003253</td>\n",
       "      <td>-0.009799</td>\n",
       "      <td>-0.002462</td>\n",
       "      <td>1.000000</td>\n",
       "      <td>0.079750</td>\n",
       "      <td>-0.028500</td>\n",
       "      <td>-0.018609</td>\n",
       "      <td>0.012289</td>\n",
       "    </tr>\n",
       "    <tr>\n",
       "      <th>drive</th>\n",
       "      <td>-0.142508</td>\n",
       "      <td>-0.173947</td>\n",
       "      <td>-0.070904</td>\n",
       "      <td>-0.128113</td>\n",
       "      <td>0.080360</td>\n",
       "      <td>-0.015956</td>\n",
       "      <td>0.097668</td>\n",
       "      <td>-0.079044</td>\n",
       "      <td>-0.020818</td>\n",
       "      <td>0.079750</td>\n",
       "      <td>1.000000</td>\n",
       "      <td>0.180020</td>\n",
       "      <td>0.110170</td>\n",
       "      <td>-0.072565</td>\n",
       "    </tr>\n",
       "    <tr>\n",
       "      <th>type</th>\n",
       "      <td>0.093661</td>\n",
       "      <td>0.040395</td>\n",
       "      <td>-0.017819</td>\n",
       "      <td>-0.086639</td>\n",
       "      <td>0.078017</td>\n",
       "      <td>0.108155</td>\n",
       "      <td>-0.192459</td>\n",
       "      <td>-0.002970</td>\n",
       "      <td>-0.018183</td>\n",
       "      <td>-0.028500</td>\n",
       "      <td>0.180020</td>\n",
       "      <td>1.000000</td>\n",
       "      <td>0.096245</td>\n",
       "      <td>0.004151</td>\n",
       "    </tr>\n",
       "    <tr>\n",
       "      <th>paint_color</th>\n",
       "      <td>0.067002</td>\n",
       "      <td>0.010379</td>\n",
       "      <td>-0.021697</td>\n",
       "      <td>0.012281</td>\n",
       "      <td>0.041377</td>\n",
       "      <td>0.088770</td>\n",
       "      <td>-0.086970</td>\n",
       "      <td>-0.001048</td>\n",
       "      <td>-0.036344</td>\n",
       "      <td>-0.018609</td>\n",
       "      <td>0.110170</td>\n",
       "      <td>0.096245</td>\n",
       "      <td>1.000000</td>\n",
       "      <td>-0.001303</td>\n",
       "    </tr>\n",
       "    <tr>\n",
       "      <th>state</th>\n",
       "      <td>-0.010335</td>\n",
       "      <td>0.001858</td>\n",
       "      <td>-0.007384</td>\n",
       "      <td>0.045733</td>\n",
       "      <td>0.015615</td>\n",
       "      <td>0.017556</td>\n",
       "      <td>-0.031760</td>\n",
       "      <td>0.035183</td>\n",
       "      <td>0.003480</td>\n",
       "      <td>0.012289</td>\n",
       "      <td>-0.072565</td>\n",
       "      <td>0.004151</td>\n",
       "      <td>-0.001303</td>\n",
       "      <td>1.000000</td>\n",
       "    </tr>\n",
       "  </tbody>\n",
       "</table>\n",
       "</div>"
      ],
      "text/plain": [
       "                 price      year  manufacturer     model  condition  \\\n",
       "price         1.000000  0.353851     -0.083821  0.068560   0.062166   \n",
       "year          0.353851  1.000000      0.004064  0.042873   0.012532   \n",
       "manufacturer -0.083821  0.004064      1.000000 -0.010592  -0.032702   \n",
       "model         0.068560  0.042873     -0.010592  1.000000  -0.011137   \n",
       "condition     0.062166  0.012532     -0.032702 -0.011137   1.000000   \n",
       "cylinders     0.394160 -0.173149     -0.262763  0.103177   0.045108   \n",
       "fuel         -0.386167 -0.017645      0.049992 -0.016818  -0.012868   \n",
       "odometer     -0.472241 -0.334364      0.030768  0.022232  -0.062668   \n",
       "title_status -0.032489  0.041421      0.017385 -0.029639   0.021007   \n",
       "transmission -0.030578 -0.197101      0.050893 -0.011642   0.012446   \n",
       "drive        -0.142508 -0.173947     -0.070904 -0.128113   0.080360   \n",
       "type          0.093661  0.040395     -0.017819 -0.086639   0.078017   \n",
       "paint_color   0.067002  0.010379     -0.021697  0.012281   0.041377   \n",
       "state        -0.010335  0.001858     -0.007384  0.045733   0.015615   \n",
       "\n",
       "              cylinders      fuel  odometer  title_status  transmission  \\\n",
       "price          0.394160 -0.386167 -0.472241     -0.032489     -0.030578   \n",
       "year          -0.173149 -0.017645 -0.334364      0.041421     -0.197101   \n",
       "manufacturer  -0.262763  0.049992  0.030768      0.017385      0.050893   \n",
       "model          0.103177 -0.016818  0.022232     -0.029639     -0.011642   \n",
       "condition      0.045108 -0.012868 -0.062668      0.021007      0.012446   \n",
       "cylinders      1.000000 -0.232867  0.106551     -0.055008     -0.085924   \n",
       "fuel          -0.232867  1.000000 -0.065324      0.004242      0.003253   \n",
       "odometer       0.106551 -0.065324  1.000000     -0.085227     -0.009799   \n",
       "title_status  -0.055008  0.004242 -0.085227      1.000000     -0.002462   \n",
       "transmission  -0.085924  0.003253 -0.009799     -0.002462      1.000000   \n",
       "drive         -0.015956  0.097668 -0.079044     -0.020818      0.079750   \n",
       "type           0.108155 -0.192459 -0.002970     -0.018183     -0.028500   \n",
       "paint_color    0.088770 -0.086970 -0.001048     -0.036344     -0.018609   \n",
       "state          0.017556 -0.031760  0.035183      0.003480      0.012289   \n",
       "\n",
       "                 drive      type  paint_color     state  \n",
       "price        -0.142508  0.093661     0.067002 -0.010335  \n",
       "year         -0.173947  0.040395     0.010379  0.001858  \n",
       "manufacturer -0.070904 -0.017819    -0.021697 -0.007384  \n",
       "model        -0.128113 -0.086639     0.012281  0.045733  \n",
       "condition     0.080360  0.078017     0.041377  0.015615  \n",
       "cylinders    -0.015956  0.108155     0.088770  0.017556  \n",
       "fuel          0.097668 -0.192459    -0.086970 -0.031760  \n",
       "odometer     -0.079044 -0.002970    -0.001048  0.035183  \n",
       "title_status -0.020818 -0.018183    -0.036344  0.003480  \n",
       "transmission  0.079750 -0.028500    -0.018609  0.012289  \n",
       "drive         1.000000  0.180020     0.110170 -0.072565  \n",
       "type          0.180020  1.000000     0.096245  0.004151  \n",
       "paint_color   0.110170  0.096245     1.000000 -0.001303  \n",
       "state        -0.072565  0.004151    -0.001303  1.000000  "
      ]
     },
     "execution_count": 44,
     "metadata": {},
     "output_type": "execute_result"
    }
   ],
   "source": [
    "df2.corr()"
   ]
  },
  {
   "cell_type": "markdown",
   "id": "72677fbe-37a0-42f7-a6fc-dea0a45570d3",
   "metadata": {},
   "source": [
    "# Final Clean CSV File"
   ]
  },
  {
   "cell_type": "code",
   "execution_count": 45,
   "id": "e36a0c2f-64fb-44a6-b788-104066403a48",
   "metadata": {},
   "outputs": [],
   "source": [
    "df2.to_csv('cl_final1')"
   ]
  },
  {
   "cell_type": "code",
   "execution_count": null,
   "id": "76cf7765-e6e8-41bf-97e7-cd2cb8cbb750",
   "metadata": {},
   "outputs": [],
   "source": []
  },
  {
   "cell_type": "code",
   "execution_count": null,
   "id": "50aa280c-9a3d-4306-b3b1-d1e334280b9d",
   "metadata": {},
   "outputs": [],
   "source": []
  },
  {
   "cell_type": "code",
   "execution_count": null,
   "id": "bec36bfc-ed32-473e-ac57-87ca9841af01",
   "metadata": {},
   "outputs": [],
   "source": []
  },
  {
   "cell_type": "code",
   "execution_count": null,
   "id": "52d4b66a-c3eb-4287-837c-c7315d8e6cba",
   "metadata": {},
   "outputs": [],
   "source": []
  },
  {
   "cell_type": "code",
   "execution_count": null,
   "id": "b932bd92-628e-4475-b133-218f8571e5cc",
   "metadata": {},
   "outputs": [],
   "source": []
  },
  {
   "cell_type": "code",
   "execution_count": null,
   "id": "b9f9185a-a552-450c-867d-365f3364be0d",
   "metadata": {},
   "outputs": [],
   "source": []
  },
  {
   "cell_type": "code",
   "execution_count": null,
   "id": "b44b2dbf-862a-4bd7-84bd-7ae0f364d3bd",
   "metadata": {},
   "outputs": [],
   "source": []
  },
  {
   "cell_type": "code",
   "execution_count": null,
   "id": "d16ba6a9-42bc-48a3-8064-a913e8ef9d50",
   "metadata": {},
   "outputs": [],
   "source": []
  },
  {
   "cell_type": "code",
   "execution_count": null,
   "id": "abb699ab-e843-447b-a191-4870680784b7",
   "metadata": {},
   "outputs": [],
   "source": []
  },
  {
   "cell_type": "code",
   "execution_count": null,
   "id": "97ee8aca-c8ba-461f-8548-e794fdbe750b",
   "metadata": {},
   "outputs": [],
   "source": []
  },
  {
   "cell_type": "code",
   "execution_count": null,
   "id": "1dbee3ca-5237-4131-8382-bcf11ec97f4b",
   "metadata": {},
   "outputs": [],
   "source": []
  },
  {
   "cell_type": "code",
   "execution_count": null,
   "id": "0145612c-d537-4f95-885c-e09ab50a45c7",
   "metadata": {},
   "outputs": [],
   "source": []
  }
 ],
 "metadata": {
  "kernelspec": {
   "display_name": "Python 3 (ipykernel)",
   "language": "python",
   "name": "python3"
  },
  "language_info": {
   "codemirror_mode": {
    "name": "ipython",
    "version": 3
   },
   "file_extension": ".py",
   "mimetype": "text/x-python",
   "name": "python",
   "nbconvert_exporter": "python",
   "pygments_lexer": "ipython3",
   "version": "3.10.12"
  }
 },
 "nbformat": 4,
 "nbformat_minor": 5
}
